{
 "cells": [
  {
   "cell_type": "code",
   "execution_count": 1,
   "metadata": {},
   "outputs": [],
   "source": [
    "# Import necessary mudules\n",
    "import numpy as np"
   ]
  },
  {
   "cell_type": "markdown",
   "metadata": {},
   "source": [
    "# Input"
   ]
  },
  {
   "cell_type": "code",
   "execution_count": 3,
   "metadata": {},
   "outputs": [],
   "source": [
    "U_free = 75\n",
    "rho = 1\n",
    "nu = 0.0000182\n",
    "bl_length = 1.5\n",
    "yPlus = 50"
   ]
  },
  {
   "cell_type": "markdown",
   "metadata": {},
   "source": [
    "# Output\n",
    "When meshing it's useful to be able to estimate the wall distance needed to obtain a certain yPlus value. To obtain this you can do the following.<br/>\n",
    "1. Compute the Reynols number:<br/>\n",
    "$Re = \\frac{\\rho U_{inf} L}{\\mu}$\n",
    "2. Estimate the skin friction using one of the formulas given [here](https://www.cfd-online.com/Wiki/Y_plus_wall_distance_estimation).For example, using the Schlichting skin-friction correlation.<br/>\n",
    "$C_f = [2log_{10}(Re_x)-0.65]^{-2.3}$ &nbsp; for &nbsp; $Re_x < 10^9 $\n",
    "3. Compute the Wall shear stress:<br/>\n",
    "$\\tau_w = C_f \\cdot \\frac{1}{2} \\rho U^2_{inf}$\n",
    "4. Compute the Friciton velocity<br/>\n",
    "$u_\\star=  \\sqrt{\\frac{\\tau_w}{\\rho}}$\n",
    "5. $y= \\frac{y^+\\mu}{\\rho u_{\\star}}$\n",
    "\n"
   ]
  },
  {
   "cell_type": "code",
   "execution_count": 4,
   "metadata": {},
   "outputs": [
    {
     "name": "stdout",
     "output_type": "stream",
     "text": [
      "In order to get yPlus of 50 at Reynolds number 6181318.681318682, the hight of first cell should be 0.0028212890003324596.\n"
     ]
    }
   ],
   "source": [
    "Re = U_free*bl_length/nu\n",
    "if Re <= 1e9:\n",
    "    fric = (2*np.log10(Re)-0.65)**(-2.3)\n",
    "else:\n",
    "    print(\"Reynols number of {} has exceeded the limit!\".format(Re))\n",
    "    exit()\n",
    "wall_ss = fric*0.5*rho*U_free\n",
    "fric_u = np.sqrt(wall_ss/rho)\n",
    "wall_dis = yPlus*nu/fric_u\n",
    "print(\"In order to get yPlus of {} at Reynolds number {}, the hight of first cell should be {}.\".format(yPlus,Re, wall_dis))"
   ]
  }
 ],
 "metadata": {
  "kernelspec": {
   "display_name": "Python 3.10.5 ('vtk')",
   "language": "python",
   "name": "python3"
  },
  "language_info": {
   "codemirror_mode": {
    "name": "ipython",
    "version": 3
   },
   "file_extension": ".py",
   "mimetype": "text/x-python",
   "name": "python",
   "nbconvert_exporter": "python",
   "pygments_lexer": "ipython3",
   "version": "3.10.5"
  },
  "orig_nbformat": 4,
  "vscode": {
   "interpreter": {
    "hash": "7242aef6266ed013db7561f1fc2adff69d435bc0f1d88cf7310d09d30baabb37"
   }
  }
 },
 "nbformat": 4,
 "nbformat_minor": 2
}
