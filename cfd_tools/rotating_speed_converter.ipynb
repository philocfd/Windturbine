{
 "cells": [
  {
   "cell_type": "code",
   "execution_count": 1,
   "metadata": {},
   "outputs": [],
   "source": [
    "import numpy as np"
   ]
  },
  {
   "cell_type": "code",
   "execution_count": 15,
   "metadata": {},
   "outputs": [],
   "source": [
    "def convert_rmp_to_rad_and_deg(rpm):\n",
    "    rad = rpm*2*np.pi/60\n",
    "    deg = rad/np.pi*180\n",
    "    period = 360/deg\n",
    "    print(\"Rotating speed in rad is: {} rpm/min\\n\".format(rpm))\n",
    "    print(\"Rotating speed in rad is: {} rad/s\\n\".format(rad))\n",
    "    print(\"Rotating speed in deg is: {} deg/s\\n\".format(deg))\n",
    "    print(\"period is: {} s\".format(period))\n",
    "    \n",
    "def convert_rad_to_rpm_and_deg(rad):\n",
    "    deg = rad/np.pi*180\n",
    "    rpm = deg/360*60\n",
    "    period = 360/deg\n",
    "    print(\"Rotating speed in rad is: {} rpm/min\\n\".format(rpm))\n",
    "    print(\"Rotating speed in rad is: {} rad/s\\n\".format(rad))\n",
    "    print(\"Rotating speed in deg is: {} deg/s\\n\".format(deg))\n",
    "    print(\"period is: {} s\".format(period))"
   ]
  },
  {
   "cell_type": "code",
   "execution_count": 16,
   "metadata": {},
   "outputs": [
    {
     "name": "stdout",
     "output_type": "stream",
     "text": [
      "Rotating speed in rad is: 98.79702247372495 rpm/min\n",
      "\n",
      "Rotating speed in rad is: 10.346 rad/s\n",
      "\n",
      "Rotating speed in deg is: 592.7821348423497 deg/s\n",
      "\n",
      "period is: 0.607305751708833 s\n"
     ]
    }
   ],
   "source": [
    "convert_rad_to_rpm_and_deg(10.346)"
   ]
  }
 ],
 "metadata": {
  "kernelspec": {
   "display_name": "Python 3.10.5 ('vtk')",
   "language": "python",
   "name": "python3"
  },
  "language_info": {
   "codemirror_mode": {
    "name": "ipython",
    "version": 3
   },
   "file_extension": ".py",
   "mimetype": "text/x-python",
   "name": "python",
   "nbconvert_exporter": "python",
   "pygments_lexer": "ipython3",
   "version": "3.10.5"
  },
  "orig_nbformat": 4,
  "vscode": {
   "interpreter": {
    "hash": "7242aef6266ed013db7561f1fc2adff69d435bc0f1d88cf7310d09d30baabb37"
   }
  }
 },
 "nbformat": 4,
 "nbformat_minor": 2
}
